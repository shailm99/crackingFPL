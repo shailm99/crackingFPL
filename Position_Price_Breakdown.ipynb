{
 "cells": [
  {
   "cell_type": "code",
   "execution_count": 35,
   "metadata": {
    "_cell_guid": "b1076dfc-b9ad-4769-8c92-a6c4dae69d19",
    "_uuid": "8f2839f25d086af736a60e9eeb907d3b93b6e0e5"
   },
   "outputs": [],
   "source": [
    "import numpy as np # linear algebra\n",
    "import pandas as pd # data processing, CSV file I/O (e.g. pd.read_csv)\n",
    "import seaborn as sns \n",
    "import matplotlib.pyplot as plt"
   ]
  },
  {
   "cell_type": "code",
   "execution_count": 36,
   "metadata": {
    "_cell_guid": "79c7e3d0-c299-4dcb-8224-4455121ee9b0",
    "_uuid": "d629ff2d2480ee46fbb7e2d37f6b5fab8052498a"
   },
   "outputs": [],
   "source": [
    "import json\n",
    "fpl_df = pd.read_csv('player_history_2020_21.csv')\n",
    "player_list = json.load(open('FPL_2020_21_player_list.jscsrc'))"
   ]
  },
  {
   "cell_type": "code",
   "execution_count": 37,
   "metadata": {},
   "outputs": [
    {
     "data": {
      "text/plain": [
       "dict_keys(['events', 'game_settings', 'phases', 'teams', 'total_players', 'elements', 'element_stats', 'element_types'])"
      ]
     },
     "execution_count": 37,
     "metadata": {},
     "output_type": "execute_result"
    }
   ],
   "source": [
    "fpl_df\n",
    "player_list.keys()"
   ]
  },
  {
   "cell_type": "code",
   "execution_count": 38,
   "metadata": {},
   "outputs": [],
   "source": [
    "player_list_df = pd.DataFrame(player_list['elements'])"
   ]
  },
  {
   "cell_type": "code",
   "execution_count": 39,
   "metadata": {},
   "outputs": [],
   "source": [
    "player_list_df = player_list_df[['code', 'element_type', 'first_name',\n",
    "       'second_name', 'team', 'team_code', 'total_points']]"
   ]
  },
  {
   "cell_type": "code",
   "execution_count": 40,
   "metadata": {},
   "outputs": [],
   "source": [
    "player_list_df['Full_Name'] = player_list_df['first_name'] + ' ' + player_list_df['second_name']"
   ]
  },
  {
   "cell_type": "code",
   "execution_count": 41,
   "metadata": {},
   "outputs": [],
   "source": [
    "player_list_df.drop(columns =['first_name', 'second_name'],inplace=True)"
   ]
  },
  {
   "cell_type": "code",
   "execution_count": 42,
   "metadata": {},
   "outputs": [
    {
     "name": "stderr",
     "output_type": "stream",
     "text": [
      "/Users/shailmirpuri/opt/anaconda3/lib/python3.8/site-packages/pandas/core/indexing.py:670: SettingWithCopyWarning: \n",
      "A value is trying to be set on a copy of a slice from a DataFrame\n",
      "\n",
      "See the caveats in the documentation: https://pandas.pydata.org/pandas-docs/stable/user_guide/indexing.html#returning-a-view-versus-a-copy\n",
      "  iloc._setitem_with_indexer(indexer, value)\n"
     ]
    }
   ],
   "source": [
    "player_list['element_types']\n",
    "id_to_pos = {1 : 'GKP', 2 : 'DEF', 3 :'MID' , 4 : 'FWD' }\n",
    "for i,j in id_to_pos.items():\n",
    "    player_list_df['element_type'].loc[player_list_df['element_type'] == i] = j"
   ]
  },
  {
   "cell_type": "code",
   "execution_count": 43,
   "metadata": {},
   "outputs": [],
   "source": [
    "team_keys = player_list['teams']\n",
    "code_to_team = {}\n",
    "for i in range(len(team_keys)):\n",
    "    id_num = team_keys[i]['id']\n",
    "    team_name = team_keys[i]['name']\n",
    "    code_to_team[id_num] = team_name\n",
    "    "
   ]
  },
  {
   "cell_type": "code",
   "execution_count": 44,
   "metadata": {},
   "outputs": [
    {
     "name": "stderr",
     "output_type": "stream",
     "text": [
      "/Users/shailmirpuri/opt/anaconda3/lib/python3.8/site-packages/pandas/core/indexing.py:670: SettingWithCopyWarning: \n",
      "A value is trying to be set on a copy of a slice from a DataFrame\n",
      "\n",
      "See the caveats in the documentation: https://pandas.pydata.org/pandas-docs/stable/user_guide/indexing.html#returning-a-view-versus-a-copy\n",
      "  iloc._setitem_with_indexer(indexer, value)\n"
     ]
    }
   ],
   "source": [
    "for i,j in code_to_team.items():\n",
    "    player_list_df['team'].loc[player_list_df['team'] == i] = j"
   ]
  },
  {
   "cell_type": "code",
   "execution_count": 45,
   "metadata": {},
   "outputs": [],
   "source": [
    "player_list_df.drop(columns = ['team_code', 'total_points'], inplace = True)"
   ]
  },
  {
   "cell_type": "code",
   "execution_count": 46,
   "metadata": {},
   "outputs": [
    {
     "data": {
      "text/html": [
       "<div>\n",
       "<style scoped>\n",
       "    .dataframe tbody tr th:only-of-type {\n",
       "        vertical-align: middle;\n",
       "    }\n",
       "\n",
       "    .dataframe tbody tr th {\n",
       "        vertical-align: top;\n",
       "    }\n",
       "\n",
       "    .dataframe thead th {\n",
       "        text-align: right;\n",
       "    }\n",
       "</style>\n",
       "<table border=\"1\" class=\"dataframe\">\n",
       "  <thead>\n",
       "    <tr style=\"text-align: right;\">\n",
       "      <th></th>\n",
       "      <th>code</th>\n",
       "      <th>element_type</th>\n",
       "      <th>team</th>\n",
       "      <th>Full_Name</th>\n",
       "    </tr>\n",
       "  </thead>\n",
       "  <tbody>\n",
       "    <tr>\n",
       "      <th>0</th>\n",
       "      <td>37605</td>\n",
       "      <td>MID</td>\n",
       "      <td>Arsenal</td>\n",
       "      <td>Mesut Ã–zil</td>\n",
       "    </tr>\n",
       "    <tr>\n",
       "      <th>1</th>\n",
       "      <td>39476</td>\n",
       "      <td>DEF</td>\n",
       "      <td>Arsenal</td>\n",
       "      <td>Sokratis Papastathopoulos</td>\n",
       "    </tr>\n",
       "    <tr>\n",
       "      <th>2</th>\n",
       "      <td>41270</td>\n",
       "      <td>DEF</td>\n",
       "      <td>Arsenal</td>\n",
       "      <td>David Luiz Moreira Marinho</td>\n",
       "    </tr>\n",
       "    <tr>\n",
       "      <th>3</th>\n",
       "      <td>54694</td>\n",
       "      <td>MID</td>\n",
       "      <td>Arsenal</td>\n",
       "      <td>Pierre-Emerick Aubameyang</td>\n",
       "    </tr>\n",
       "    <tr>\n",
       "      <th>4</th>\n",
       "      <td>58822</td>\n",
       "      <td>DEF</td>\n",
       "      <td>Arsenal</td>\n",
       "      <td>CÃ©dric Soares</td>\n",
       "    </tr>\n",
       "    <tr>\n",
       "      <th>...</th>\n",
       "      <td>...</td>\n",
       "      <td>...</td>\n",
       "      <td>...</td>\n",
       "      <td>...</td>\n",
       "    </tr>\n",
       "    <tr>\n",
       "      <th>476</th>\n",
       "      <td>216208</td>\n",
       "      <td>GKP</td>\n",
       "      <td>Wolves</td>\n",
       "      <td>Matija Sarkic</td>\n",
       "    </tr>\n",
       "    <tr>\n",
       "      <th>477</th>\n",
       "      <td>222531</td>\n",
       "      <td>MID</td>\n",
       "      <td>Wolves</td>\n",
       "      <td>Morgan Gibbs-White</td>\n",
       "    </tr>\n",
       "    <tr>\n",
       "      <th>478</th>\n",
       "      <td>247632</td>\n",
       "      <td>MID</td>\n",
       "      <td>Wolves</td>\n",
       "      <td>Pedro Lomba Neto</td>\n",
       "    </tr>\n",
       "    <tr>\n",
       "      <th>479</th>\n",
       "      <td>428610</td>\n",
       "      <td>MID</td>\n",
       "      <td>Wolves</td>\n",
       "      <td>Bruno AndrÃ© Cavaco Jordao</td>\n",
       "    </tr>\n",
       "    <tr>\n",
       "      <th>480</th>\n",
       "      <td>474003</td>\n",
       "      <td>FWD</td>\n",
       "      <td>Wolves</td>\n",
       "      <td>Leonardo Campana</td>\n",
       "    </tr>\n",
       "  </tbody>\n",
       "</table>\n",
       "<p>481 rows × 4 columns</p>\n",
       "</div>"
      ],
      "text/plain": [
       "       code element_type     team                   Full_Name\n",
       "0     37605          MID  Arsenal                 Mesut Ã–zil\n",
       "1     39476          DEF  Arsenal   Sokratis Papastathopoulos\n",
       "2     41270          DEF  Arsenal  David Luiz Moreira Marinho\n",
       "3     54694          MID  Arsenal   Pierre-Emerick Aubameyang\n",
       "4     58822          DEF  Arsenal              CÃ©dric Soares\n",
       "..      ...          ...      ...                         ...\n",
       "476  216208          GKP   Wolves               Matija Sarkic\n",
       "477  222531          MID   Wolves          Morgan Gibbs-White\n",
       "478  247632          MID   Wolves            Pedro Lomba Neto\n",
       "479  428610          MID   Wolves  Bruno AndrÃ© Cavaco Jordao\n",
       "480  474003          FWD   Wolves            Leonardo Campana\n",
       "\n",
       "[481 rows x 4 columns]"
      ]
     },
     "execution_count": 46,
     "metadata": {},
     "output_type": "execute_result"
    }
   ],
   "source": [
    "player_list_df"
   ]
  },
  {
   "cell_type": "code",
   "execution_count": 47,
   "metadata": {},
   "outputs": [],
   "source": [
    "fpl_df = fpl_df.merge(player_list_df, left_on = 'element_code', right_on= 'code')"
   ]
  },
  {
   "cell_type": "code",
   "execution_count": 48,
   "metadata": {},
   "outputs": [],
   "source": [
    "fpl_df.drop(columns = 'code', inplace = True)"
   ]
  },
  {
   "cell_type": "code",
   "execution_count": 49,
   "metadata": {},
   "outputs": [
    {
     "data": {
      "text/plain": [
       "Index(['seasons', 'assists', 'bonus', 'bps', 'clean_sheets', 'creativity',\n",
       "       'element_code', 'end_cost', 'goals_conceded', 'goals_scored',\n",
       "       'ict_index', 'influence', 'minutes', 'own_goals', 'penalties_missed',\n",
       "       'penalties_saved', 'red_cards', 'saves', 'season_name', 'start_cost',\n",
       "       'threat', 'total_points', 'yellow_cards', 'element_type', 'team',\n",
       "       'Full_Name'],\n",
       "      dtype='object')"
      ]
     },
     "execution_count": 49,
     "metadata": {},
     "output_type": "execute_result"
    }
   ],
   "source": [
    "fpl_df.columns"
   ]
  },
  {
   "cell_type": "code",
   "execution_count": 50,
   "metadata": {},
   "outputs": [
    {
     "data": {
      "text/html": [
       "<div>\n",
       "<style scoped>\n",
       "    .dataframe tbody tr th:only-of-type {\n",
       "        vertical-align: middle;\n",
       "    }\n",
       "\n",
       "    .dataframe tbody tr th {\n",
       "        vertical-align: top;\n",
       "    }\n",
       "\n",
       "    .dataframe thead th {\n",
       "        text-align: right;\n",
       "    }\n",
       "</style>\n",
       "<table border=\"1\" class=\"dataframe\">\n",
       "  <thead>\n",
       "    <tr style=\"text-align: right;\">\n",
       "      <th></th>\n",
       "      <th>seasons</th>\n",
       "      <th>assists</th>\n",
       "      <th>bonus</th>\n",
       "      <th>bps</th>\n",
       "      <th>clean_sheets</th>\n",
       "      <th>creativity</th>\n",
       "      <th>element_code</th>\n",
       "      <th>end_cost</th>\n",
       "      <th>goals_conceded</th>\n",
       "      <th>goals_scored</th>\n",
       "      <th>...</th>\n",
       "      <th>red_cards</th>\n",
       "      <th>saves</th>\n",
       "      <th>season_name</th>\n",
       "      <th>start_cost</th>\n",
       "      <th>threat</th>\n",
       "      <th>total_points</th>\n",
       "      <th>yellow_cards</th>\n",
       "      <th>element_type</th>\n",
       "      <th>team</th>\n",
       "      <th>Full_Name</th>\n",
       "    </tr>\n",
       "  </thead>\n",
       "  <tbody>\n",
       "    <tr>\n",
       "      <th>0</th>\n",
       "      <td>0</td>\n",
       "      <td>10</td>\n",
       "      <td>18</td>\n",
       "      <td>162</td>\n",
       "      <td>13</td>\n",
       "      <td>0.0</td>\n",
       "      <td>37605</td>\n",
       "      <td>96</td>\n",
       "      <td>23</td>\n",
       "      <td>5</td>\n",
       "      <td>...</td>\n",
       "      <td>0</td>\n",
       "      <td>0</td>\n",
       "      <td>2013/14</td>\n",
       "      <td>100</td>\n",
       "      <td>0</td>\n",
       "      <td>137</td>\n",
       "      <td>0</td>\n",
       "      <td>MID</td>\n",
       "      <td>Arsenal</td>\n",
       "      <td>Mesut Ã–zil</td>\n",
       "    </tr>\n",
       "    <tr>\n",
       "      <th>1</th>\n",
       "      <td>1</td>\n",
       "      <td>6</td>\n",
       "      <td>13</td>\n",
       "      <td>511</td>\n",
       "      <td>9</td>\n",
       "      <td>0.0</td>\n",
       "      <td>37605</td>\n",
       "      <td>90</td>\n",
       "      <td>16</td>\n",
       "      <td>4</td>\n",
       "      <td>...</td>\n",
       "      <td>0</td>\n",
       "      <td>0</td>\n",
       "      <td>2014/15</td>\n",
       "      <td>90</td>\n",
       "      <td>0</td>\n",
       "      <td>103</td>\n",
       "      <td>0</td>\n",
       "      <td>MID</td>\n",
       "      <td>Arsenal</td>\n",
       "      <td>Mesut Ã–zil</td>\n",
       "    </tr>\n",
       "    <tr>\n",
       "      <th>2</th>\n",
       "      <td>2</td>\n",
       "      <td>19</td>\n",
       "      <td>30</td>\n",
       "      <td>861</td>\n",
       "      <td>17</td>\n",
       "      <td>0.0</td>\n",
       "      <td>37605</td>\n",
       "      <td>92</td>\n",
       "      <td>31</td>\n",
       "      <td>6</td>\n",
       "      <td>...</td>\n",
       "      <td>0</td>\n",
       "      <td>0</td>\n",
       "      <td>2015/16</td>\n",
       "      <td>85</td>\n",
       "      <td>0</td>\n",
       "      <td>200</td>\n",
       "      <td>4</td>\n",
       "      <td>MID</td>\n",
       "      <td>Arsenal</td>\n",
       "      <td>Mesut Ã–zil</td>\n",
       "    </tr>\n",
       "    <tr>\n",
       "      <th>3</th>\n",
       "      <td>3</td>\n",
       "      <td>11</td>\n",
       "      <td>19</td>\n",
       "      <td>729</td>\n",
       "      <td>12</td>\n",
       "      <td>1649.3</td>\n",
       "      <td>37605</td>\n",
       "      <td>95</td>\n",
       "      <td>30</td>\n",
       "      <td>8</td>\n",
       "      <td>...</td>\n",
       "      <td>0</td>\n",
       "      <td>0</td>\n",
       "      <td>2016/17</td>\n",
       "      <td>95</td>\n",
       "      <td>734</td>\n",
       "      <td>167</td>\n",
       "      <td>2</td>\n",
       "      <td>MID</td>\n",
       "      <td>Arsenal</td>\n",
       "      <td>Mesut Ã–zil</td>\n",
       "    </tr>\n",
       "    <tr>\n",
       "      <th>4</th>\n",
       "      <td>4</td>\n",
       "      <td>9</td>\n",
       "      <td>11</td>\n",
       "      <td>506</td>\n",
       "      <td>8</td>\n",
       "      <td>1287.5</td>\n",
       "      <td>37605</td>\n",
       "      <td>93</td>\n",
       "      <td>36</td>\n",
       "      <td>4</td>\n",
       "      <td>...</td>\n",
       "      <td>0</td>\n",
       "      <td>0</td>\n",
       "      <td>2017/18</td>\n",
       "      <td>95</td>\n",
       "      <td>555</td>\n",
       "      <td>112</td>\n",
       "      <td>4</td>\n",
       "      <td>MID</td>\n",
       "      <td>Arsenal</td>\n",
       "      <td>Mesut Ã–zil</td>\n",
       "    </tr>\n",
       "    <tr>\n",
       "      <th>...</th>\n",
       "      <td>...</td>\n",
       "      <td>...</td>\n",
       "      <td>...</td>\n",
       "      <td>...</td>\n",
       "      <td>...</td>\n",
       "      <td>...</td>\n",
       "      <td>...</td>\n",
       "      <td>...</td>\n",
       "      <td>...</td>\n",
       "      <td>...</td>\n",
       "      <td>...</td>\n",
       "      <td>...</td>\n",
       "      <td>...</td>\n",
       "      <td>...</td>\n",
       "      <td>...</td>\n",
       "      <td>...</td>\n",
       "      <td>...</td>\n",
       "      <td>...</td>\n",
       "      <td>...</td>\n",
       "      <td>...</td>\n",
       "      <td>...</td>\n",
       "    </tr>\n",
       "    <tr>\n",
       "      <th>1816</th>\n",
       "      <td>4</td>\n",
       "      <td>8</td>\n",
       "      <td>13</td>\n",
       "      <td>522</td>\n",
       "      <td>9</td>\n",
       "      <td>891.5</td>\n",
       "      <td>47431</td>\n",
       "      <td>70</td>\n",
       "      <td>19</td>\n",
       "      <td>6</td>\n",
       "      <td>...</td>\n",
       "      <td>0</td>\n",
       "      <td>0</td>\n",
       "      <td>2017/18</td>\n",
       "      <td>70</td>\n",
       "      <td>715</td>\n",
       "      <td>130</td>\n",
       "      <td>1</td>\n",
       "      <td>MID</td>\n",
       "      <td>Arsenal</td>\n",
       "      <td>Willian Borges Da Silva</td>\n",
       "    </tr>\n",
       "    <tr>\n",
       "      <th>1817</th>\n",
       "      <td>5</td>\n",
       "      <td>7</td>\n",
       "      <td>6</td>\n",
       "      <td>475</td>\n",
       "      <td>11</td>\n",
       "      <td>1165.5</td>\n",
       "      <td>47431</td>\n",
       "      <td>71</td>\n",
       "      <td>25</td>\n",
       "      <td>3</td>\n",
       "      <td>...</td>\n",
       "      <td>0</td>\n",
       "      <td>0</td>\n",
       "      <td>2018/19</td>\n",
       "      <td>75</td>\n",
       "      <td>742</td>\n",
       "      <td>108</td>\n",
       "      <td>2</td>\n",
       "      <td>MID</td>\n",
       "      <td>Arsenal</td>\n",
       "      <td>Willian Borges Da Silva</td>\n",
       "    </tr>\n",
       "    <tr>\n",
       "      <th>1818</th>\n",
       "      <td>6</td>\n",
       "      <td>9</td>\n",
       "      <td>26</td>\n",
       "      <td>698</td>\n",
       "      <td>10</td>\n",
       "      <td>1177.7</td>\n",
       "      <td>47431</td>\n",
       "      <td>73</td>\n",
       "      <td>35</td>\n",
       "      <td>9</td>\n",
       "      <td>...</td>\n",
       "      <td>0</td>\n",
       "      <td>0</td>\n",
       "      <td>2019/20</td>\n",
       "      <td>70</td>\n",
       "      <td>930</td>\n",
       "      <td>168</td>\n",
       "      <td>4</td>\n",
       "      <td>MID</td>\n",
       "      <td>Arsenal</td>\n",
       "      <td>Willian Borges Da Silva</td>\n",
       "    </tr>\n",
       "    <tr>\n",
       "      <th>1819</th>\n",
       "      <td>0</td>\n",
       "      <td>1</td>\n",
       "      <td>1</td>\n",
       "      <td>117</td>\n",
       "      <td>3</td>\n",
       "      <td>71.8</td>\n",
       "      <td>180135</td>\n",
       "      <td>45</td>\n",
       "      <td>9</td>\n",
       "      <td>1</td>\n",
       "      <td>...</td>\n",
       "      <td>0</td>\n",
       "      <td>0</td>\n",
       "      <td>2018/19</td>\n",
       "      <td>45</td>\n",
       "      <td>106</td>\n",
       "      <td>26</td>\n",
       "      <td>2</td>\n",
       "      <td>MID</td>\n",
       "      <td>Newcastle</td>\n",
       "      <td>Sean Longstaff</td>\n",
       "    </tr>\n",
       "    <tr>\n",
       "      <th>1820</th>\n",
       "      <td>1</td>\n",
       "      <td>2</td>\n",
       "      <td>0</td>\n",
       "      <td>181</td>\n",
       "      <td>2</td>\n",
       "      <td>217.1</td>\n",
       "      <td>180135</td>\n",
       "      <td>50</td>\n",
       "      <td>26</td>\n",
       "      <td>1</td>\n",
       "      <td>...</td>\n",
       "      <td>1</td>\n",
       "      <td>0</td>\n",
       "      <td>2019/20</td>\n",
       "      <td>50</td>\n",
       "      <td>155</td>\n",
       "      <td>44</td>\n",
       "      <td>2</td>\n",
       "      <td>MID</td>\n",
       "      <td>Newcastle</td>\n",
       "      <td>Sean Longstaff</td>\n",
       "    </tr>\n",
       "  </tbody>\n",
       "</table>\n",
       "<p>1821 rows × 26 columns</p>\n",
       "</div>"
      ],
      "text/plain": [
       "      seasons  assists  bonus  bps  clean_sheets  creativity  element_code  \\\n",
       "0           0       10     18  162            13         0.0         37605   \n",
       "1           1        6     13  511             9         0.0         37605   \n",
       "2           2       19     30  861            17         0.0         37605   \n",
       "3           3       11     19  729            12      1649.3         37605   \n",
       "4           4        9     11  506             8      1287.5         37605   \n",
       "...       ...      ...    ...  ...           ...         ...           ...   \n",
       "1816        4        8     13  522             9       891.5         47431   \n",
       "1817        5        7      6  475            11      1165.5         47431   \n",
       "1818        6        9     26  698            10      1177.7         47431   \n",
       "1819        0        1      1  117             3        71.8        180135   \n",
       "1820        1        2      0  181             2       217.1        180135   \n",
       "\n",
       "      end_cost  goals_conceded  goals_scored  ...  red_cards  saves  \\\n",
       "0           96              23             5  ...          0      0   \n",
       "1           90              16             4  ...          0      0   \n",
       "2           92              31             6  ...          0      0   \n",
       "3           95              30             8  ...          0      0   \n",
       "4           93              36             4  ...          0      0   \n",
       "...        ...             ...           ...  ...        ...    ...   \n",
       "1816        70              19             6  ...          0      0   \n",
       "1817        71              25             3  ...          0      0   \n",
       "1818        73              35             9  ...          0      0   \n",
       "1819        45               9             1  ...          0      0   \n",
       "1820        50              26             1  ...          1      0   \n",
       "\n",
       "      season_name  start_cost  threat  total_points  yellow_cards  \\\n",
       "0         2013/14         100       0           137             0   \n",
       "1         2014/15          90       0           103             0   \n",
       "2         2015/16          85       0           200             4   \n",
       "3         2016/17          95     734           167             2   \n",
       "4         2017/18          95     555           112             4   \n",
       "...           ...         ...     ...           ...           ...   \n",
       "1816      2017/18          70     715           130             1   \n",
       "1817      2018/19          75     742           108             2   \n",
       "1818      2019/20          70     930           168             4   \n",
       "1819      2018/19          45     106            26             2   \n",
       "1820      2019/20          50     155            44             2   \n",
       "\n",
       "      element_type       team                Full_Name  \n",
       "0              MID    Arsenal              Mesut Ã–zil  \n",
       "1              MID    Arsenal              Mesut Ã–zil  \n",
       "2              MID    Arsenal              Mesut Ã–zil  \n",
       "3              MID    Arsenal              Mesut Ã–zil  \n",
       "4              MID    Arsenal              Mesut Ã–zil  \n",
       "...            ...        ...                      ...  \n",
       "1816           MID    Arsenal  Willian Borges Da Silva  \n",
       "1817           MID    Arsenal  Willian Borges Da Silva  \n",
       "1818           MID    Arsenal  Willian Borges Da Silva  \n",
       "1819           MID  Newcastle           Sean Longstaff  \n",
       "1820           MID  Newcastle           Sean Longstaff  \n",
       "\n",
       "[1821 rows x 26 columns]"
      ]
     },
     "execution_count": 50,
     "metadata": {},
     "output_type": "execute_result"
    }
   ],
   "source": [
    "fpl_df[['seasons', 'assists', 'bonus', 'bps', 'clean_sheets', 'creativity',\n",
    "       'element_code', 'end_cost', 'goals_conceded', 'goals_scored',\n",
    "       'ict_index', 'influence', 'minutes', 'own_goals', 'penalties_missed',\n",
    "       'penalties_saved', 'red_cards', 'saves', 'season_name', 'start_cost',\n",
    "       'threat', 'total_points', 'yellow_cards', 'element_type', 'team',\n",
    "       'Full_Name']]"
   ]
  },
  {
   "cell_type": "code",
   "execution_count": 51,
   "metadata": {},
   "outputs": [],
   "source": [
    "fpl_df = fpl_df[fpl_df['minutes'] > 1500]"
   ]
  },
  {
   "cell_type": "code",
   "execution_count": 52,
   "metadata": {},
   "outputs": [
    {
     "name": "stderr",
     "output_type": "stream",
     "text": [
      "/Users/shailmirpuri/opt/anaconda3/lib/python3.8/site-packages/seaborn/distributions.py:2551: FutureWarning: `distplot` is a deprecated function and will be removed in a future version. Please adapt your code to use either `displot` (a figure-level function with similar flexibility) or `histplot` (an axes-level function for histograms).\n",
      "  warnings.warn(msg, FutureWarning)\n"
     ]
    },
    {
     "data": {
      "text/plain": [
       "<AxesSubplot:xlabel='minutes', ylabel='Density'>"
      ]
     },
     "execution_count": 52,
     "metadata": {},
     "output_type": "execute_result"
    },
    {
     "data": {
      "image/png": "[encoded data removed]",
      "text/plain": [
       "<Figure size 432x288 with 1 Axes>"
      ]
     },
     "metadata": {},
     "output_type": "display_data"
    }
   ],
   "source": [
    "sns.distplot(fpl_df['minutes'])"
   ]
  },
  {
   "cell_type": "code",
   "execution_count": 53,
   "metadata": {},
   "outputs": [],
   "source": [
    "fpl_df['element_type'].unique()\n",
    "price_category = {}\n",
    "for pos in (fpl_df['element_type'].unique()):\n",
    "    subset = fpl_df[fpl_df['element_type'] == pos]\n",
    "    quantiles = subset['start_cost'].quantile([0.5, 0.85])\n",
    "    price_category[pos] = quantiles.to_list()"
   ]
  },
  {
   "cell_type": "code",
   "execution_count": 54,
   "metadata": {},
   "outputs": [
    {
     "data": {
      "text/plain": [
       "dict_values([[55.0, 80.0], [50.0, 60.0], [70.0, 100.0], [50.0, 55.0]])"
      ]
     },
     "execution_count": 54,
     "metadata": {},
     "output_type": "execute_result"
    }
   ],
   "source": [
    "price_category.values()"
   ]
  },
  {
   "cell_type": "code",
   "execution_count": 55,
   "metadata": {},
   "outputs": [
    {
     "data": {
      "text/html": [
       "<div>\n",
       "<style scoped>\n",
       "    .dataframe tbody tr th:only-of-type {\n",
       "        vertical-align: middle;\n",
       "    }\n",
       "\n",
       "    .dataframe tbody tr th {\n",
       "        vertical-align: top;\n",
       "    }\n",
       "\n",
       "    .dataframe thead th {\n",
       "        text-align: right;\n",
       "    }\n",
       "</style>\n",
       "<table border=\"1\" class=\"dataframe\">\n",
       "  <thead>\n",
       "    <tr style=\"text-align: right;\">\n",
       "      <th></th>\n",
       "      <th>MID</th>\n",
       "      <th>DEF</th>\n",
       "      <th>FWD</th>\n",
       "      <th>GKP</th>\n",
       "    </tr>\n",
       "  </thead>\n",
       "  <tbody>\n",
       "    <tr>\n",
       "      <th>Lower Quantile</th>\n",
       "      <td>5.5</td>\n",
       "      <td>5.0</td>\n",
       "      <td>7.0</td>\n",
       "      <td>5.0</td>\n",
       "    </tr>\n",
       "    <tr>\n",
       "      <th>Upper Quantile</th>\n",
       "      <td>8.0</td>\n",
       "      <td>6.0</td>\n",
       "      <td>10.0</td>\n",
       "      <td>5.5</td>\n",
       "    </tr>\n",
       "  </tbody>\n",
       "</table>\n",
       "</div>"
      ],
      "text/plain": [
       "                MID  DEF   FWD  GKP\n",
       "Lower Quantile  5.5  5.0   7.0  5.0\n",
       "Upper Quantile  8.0  6.0  10.0  5.5"
      ]
     },
     "execution_count": 55,
     "metadata": {},
     "output_type": "execute_result"
    }
   ],
   "source": [
    "pd.DataFrame(price_category, index = ['Lower Quantile', 'Upper Quantile'])/10"
   ]
  },
  {
   "cell_type": "code",
   "execution_count": 56,
   "metadata": {},
   "outputs": [],
   "source": [
    "fpl_df ['price_range'] = None\n",
    "price_range = []\n",
    "def price_categories(price_ranges):\n",
    "    price_ranges = sorted(price_ranges, reverse = True)\n",
    "    if fpl_df['start_cost'].iloc[i] >= price_ranges[0]:\n",
    "        price_range.append('Premium')\n",
    "    elif fpl_df['start_cost'].iloc[i] >= price_ranges[1]:\n",
    "        price_range.append('Mid Range')\n",
    "    else: \n",
    "        price_range.append('Budget')"
   ]
  },
  {
   "cell_type": "code",
   "execution_count": 57,
   "metadata": {},
   "outputs": [],
   "source": [
    "for i in range(len(fpl_df)):\n",
    "    position = fpl_df['element_type'].iloc[i]\n",
    "    price_ranges = price_category[position]\n",
    "    price_categories(price_ranges = price_ranges)"
   ]
  },
  {
   "cell_type": "code",
   "execution_count": 58,
   "metadata": {},
   "outputs": [],
   "source": [
    "fpl_df['price_range'] = price_range"
   ]
  },
  {
   "cell_type": "code",
   "execution_count": 59,
   "metadata": {},
   "outputs": [],
   "source": [
    "fpl_df['points_per_90minutes'] =  90 * fpl_df['total_points'] / fpl_df['minutes']"
   ]
  },
  {
   "cell_type": "code",
   "execution_count": 60,
   "metadata": {},
   "outputs": [
    {
     "data": {
      "text/plain": [
       "array(['2013/14', '2014/15', '2015/16', '2016/17', '2017/18', '2018/19',\n",
       "       '2019/20', '2011/12', '2012/13', '2010/11', '2008/09', '2009/10',\n",
       "       '2006/07', '2007/08'], dtype=object)"
      ]
     },
     "execution_count": 60,
     "metadata": {},
     "output_type": "execute_result"
    }
   ],
   "source": [
    "fpl_df['season_name'].unique()"
   ]
  },
  {
   "cell_type": "code",
   "execution_count": 61,
   "metadata": {},
   "outputs": [
    {
     "data": {
      "text/plain": [
       "Index(['seasons', 'assists', 'bonus', 'bps', 'clean_sheets', 'creativity',\n",
       "       'element_code', 'end_cost', 'goals_conceded', 'goals_scored',\n",
       "       'ict_index', 'influence', 'minutes', 'own_goals', 'penalties_missed',\n",
       "       'penalties_saved', 'red_cards', 'saves', 'season_name', 'start_cost',\n",
       "       'threat', 'total_points', 'yellow_cards', 'element_type', 'team',\n",
       "       'Full_Name', 'price_range', 'points_per_90minutes'],\n",
       "      dtype='object')"
      ]
     },
     "execution_count": 61,
     "metadata": {},
     "output_type": "execute_result"
    }
   ],
   "source": [
    "fpl_df.columns"
   ]
  },
  {
   "cell_type": "code",
   "execution_count": 62,
   "metadata": {},
   "outputs": [],
   "source": [
    "features = ['season_name','Full_Name', 'price_range', 'element_type','start_cost', 'team', 'goals_scored', 'assists', 'points_per_90minutes', 'total_points']"
   ]
  },
  {
   "cell_type": "code",
   "execution_count": 63,
   "metadata": {},
   "outputs": [],
   "source": [
    "top_10_performers = fpl_df[features].sort_values('total_points', ascending = False).head(10).reset_index()"
   ]
  },
  {
   "cell_type": "code",
   "execution_count": 64,
   "metadata": {},
   "outputs": [
    {
     "name": "stderr",
     "output_type": "stream",
     "text": [
      "/Users/shailmirpuri/opt/anaconda3/lib/python3.8/site-packages/pandas/core/indexing.py:670: SettingWithCopyWarning: \n",
      "A value is trying to be set on a copy of a slice from a DataFrame\n",
      "\n",
      "See the caveats in the documentation: https://pandas.pydata.org/pandas-docs/stable/user_guide/indexing.html#returning-a-view-versus-a-copy\n",
      "  iloc._setitem_with_indexer(indexer, value)\n"
     ]
    }
   ],
   "source": [
    "top_10_performers['team'].iloc[3] = 'Leicester'\n",
    "top_10_performers.drop(columns = ['index'], inplace= True)"
   ]
  },
  {
   "cell_type": "code",
   "execution_count": 65,
   "metadata": {},
   "outputs": [],
   "source": [
    "top_10_performers.rename(columns = {'season_name' : 'season', 'Full_Name' : 'Player', 'element_type' : 'position'}, inplace = True)\n",
    "top_10_performers['start_cost'] = top_10_performers['start_cost']/10"
   ]
  },
  {
   "cell_type": "code",
   "execution_count": 66,
   "metadata": {
    "scrolled": true
   },
   "outputs": [],
   "source": [
    "top_10_performers.index = range(1,11)\n",
    "top_10_performers.to_csv('top10.csv')"
   ]
  },
  {
   "cell_type": "code",
   "execution_count": 67,
   "metadata": {
    "scrolled": true
   },
   "outputs": [
    {
     "data": {
      "text/html": [
       "<div>\n",
       "<style scoped>\n",
       "    .dataframe tbody tr th:only-of-type {\n",
       "        vertical-align: middle;\n",
       "    }\n",
       "\n",
       "    .dataframe tbody tr th {\n",
       "        vertical-align: top;\n",
       "    }\n",
       "\n",
       "    .dataframe thead th {\n",
       "        text-align: right;\n",
       "    }\n",
       "</style>\n",
       "<table border=\"1\" class=\"dataframe\">\n",
       "  <thead>\n",
       "    <tr style=\"text-align: right;\">\n",
       "      <th></th>\n",
       "      <th>season_name</th>\n",
       "      <th>Full_Name</th>\n",
       "      <th>price_range</th>\n",
       "      <th>element_type</th>\n",
       "      <th>start_cost</th>\n",
       "      <th>team</th>\n",
       "      <th>goals_scored</th>\n",
       "      <th>assists</th>\n",
       "      <th>points_per_90minutes</th>\n",
       "      <th>total_points</th>\n",
       "    </tr>\n",
       "  </thead>\n",
       "  <tbody>\n",
       "    <tr>\n",
       "      <th>940</th>\n",
       "      <td>2017/18</td>\n",
       "      <td>Mohamed Salah</td>\n",
       "      <td>Premium</td>\n",
       "      <td>MID</td>\n",
       "      <td>90</td>\n",
       "      <td>Liverpool</td>\n",
       "      <td>32</td>\n",
       "      <td>12</td>\n",
       "      <td>9.387263</td>\n",
       "      <td>303</td>\n",
       "    </tr>\n",
       "    <tr>\n",
       "      <th>988</th>\n",
       "      <td>2013/14</td>\n",
       "      <td>Sergio AgÃ¼ero</td>\n",
       "      <td>Premium</td>\n",
       "      <td>FWD</td>\n",
       "      <td>110</td>\n",
       "      <td>Man City</td>\n",
       "      <td>17</td>\n",
       "      <td>11</td>\n",
       "      <td>9.188482</td>\n",
       "      <td>156</td>\n",
       "    </tr>\n",
       "    <tr>\n",
       "      <th>1038</th>\n",
       "      <td>2019/20</td>\n",
       "      <td>Riyad Mahrez</td>\n",
       "      <td>Premium</td>\n",
       "      <td>MID</td>\n",
       "      <td>85</td>\n",
       "      <td>Man City</td>\n",
       "      <td>11</td>\n",
       "      <td>14</td>\n",
       "      <td>8.143744</td>\n",
       "      <td>175</td>\n",
       "    </tr>\n",
       "    <tr>\n",
       "      <th>1021</th>\n",
       "      <td>2019/20</td>\n",
       "      <td>Kevin De Bruyne</td>\n",
       "      <td>Premium</td>\n",
       "      <td>MID</td>\n",
       "      <td>95</td>\n",
       "      <td>Man City</td>\n",
       "      <td>13</td>\n",
       "      <td>23</td>\n",
       "      <td>8.096774</td>\n",
       "      <td>251</td>\n",
       "    </tr>\n",
       "    <tr>\n",
       "      <th>1517</th>\n",
       "      <td>2016/17</td>\n",
       "      <td>Harry Kane</td>\n",
       "      <td>Premium</td>\n",
       "      <td>FWD</td>\n",
       "      <td>110</td>\n",
       "      <td>Spurs</td>\n",
       "      <td>29</td>\n",
       "      <td>7</td>\n",
       "      <td>7.990488</td>\n",
       "      <td>224</td>\n",
       "    </tr>\n",
       "    <tr>\n",
       "      <th>1045</th>\n",
       "      <td>2017/18</td>\n",
       "      <td>Raheem Sterling</td>\n",
       "      <td>Premium</td>\n",
       "      <td>MID</td>\n",
       "      <td>80</td>\n",
       "      <td>Man City</td>\n",
       "      <td>18</td>\n",
       "      <td>17</td>\n",
       "      <td>7.976006</td>\n",
       "      <td>229</td>\n",
       "    </tr>\n",
       "    <tr>\n",
       "      <th>992</th>\n",
       "      <td>2017/18</td>\n",
       "      <td>Sergio AgÃ¼ero</td>\n",
       "      <td>Premium</td>\n",
       "      <td>FWD</td>\n",
       "      <td>115</td>\n",
       "      <td>Man City</td>\n",
       "      <td>21</td>\n",
       "      <td>6</td>\n",
       "      <td>7.760204</td>\n",
       "      <td>169</td>\n",
       "    </tr>\n",
       "    <tr>\n",
       "      <th>989</th>\n",
       "      <td>2014/15</td>\n",
       "      <td>Sergio AgÃ¼ero</td>\n",
       "      <td>Premium</td>\n",
       "      <td>FWD</td>\n",
       "      <td>120</td>\n",
       "      <td>Man City</td>\n",
       "      <td>26</td>\n",
       "      <td>10</td>\n",
       "      <td>7.677725</td>\n",
       "      <td>216</td>\n",
       "    </tr>\n",
       "    <tr>\n",
       "      <th>598</th>\n",
       "      <td>2012/13</td>\n",
       "      <td>Theo Walcott</td>\n",
       "      <td>Premium</td>\n",
       "      <td>MID</td>\n",
       "      <td>90</td>\n",
       "      <td>Everton</td>\n",
       "      <td>14</td>\n",
       "      <td>13</td>\n",
       "      <td>7.637795</td>\n",
       "      <td>194</td>\n",
       "    </tr>\n",
       "    <tr>\n",
       "      <th>1046</th>\n",
       "      <td>2018/19</td>\n",
       "      <td>Raheem Sterling</td>\n",
       "      <td>Premium</td>\n",
       "      <td>MID</td>\n",
       "      <td>110</td>\n",
       "      <td>Man City</td>\n",
       "      <td>17</td>\n",
       "      <td>15</td>\n",
       "      <td>7.602888</td>\n",
       "      <td>234</td>\n",
       "    </tr>\n",
       "  </tbody>\n",
       "</table>\n",
       "</div>"
      ],
      "text/plain": [
       "     season_name        Full_Name price_range element_type  start_cost  \\\n",
       "940      2017/18    Mohamed Salah     Premium          MID          90   \n",
       "988      2013/14   Sergio AgÃ¼ero     Premium          FWD         110   \n",
       "1038     2019/20     Riyad Mahrez     Premium          MID          85   \n",
       "1021     2019/20  Kevin De Bruyne     Premium          MID          95   \n",
       "1517     2016/17       Harry Kane     Premium          FWD         110   \n",
       "1045     2017/18  Raheem Sterling     Premium          MID          80   \n",
       "992      2017/18   Sergio AgÃ¼ero     Premium          FWD         115   \n",
       "989      2014/15   Sergio AgÃ¼ero     Premium          FWD         120   \n",
       "598      2012/13     Theo Walcott     Premium          MID          90   \n",
       "1046     2018/19  Raheem Sterling     Premium          MID         110   \n",
       "\n",
       "           team  goals_scored  assists  points_per_90minutes  total_points  \n",
       "940   Liverpool            32       12              9.387263           303  \n",
       "988    Man City            17       11              9.188482           156  \n",
       "1038   Man City            11       14              8.143744           175  \n",
       "1021   Man City            13       23              8.096774           251  \n",
       "1517      Spurs            29        7              7.990488           224  \n",
       "1045   Man City            18       17              7.976006           229  \n",
       "992    Man City            21        6              7.760204           169  \n",
       "989    Man City            26       10              7.677725           216  \n",
       "598     Everton            14       13              7.637795           194  \n",
       "1046   Man City            17       15              7.602888           234  "
      ]
     },
     "execution_count": 67,
     "metadata": {},
     "output_type": "execute_result"
    }
   ],
   "source": [
    "fpl_df[features].sort_values('points_per_90minutes', ascending = False).head(10)"
   ]
  },
  {
   "cell_type": "code",
   "execution_count": 84,
   "metadata": {},
   "outputs": [
    {
     "name": "stderr",
     "output_type": "stream",
     "text": [
      "/Users/shailmirpuri/opt/anaconda3/lib/python3.8/site-packages/seaborn/_decorators.py:36: FutureWarning: Pass the following variables as keyword args: x, y. From version 0.12, the only valid positional argument will be `data`, and passing other arguments without an explicit keyword will result in an error or misinterpretation.\n",
      "  warnings.warn(\n"
     ]
    },
    {
     "data": {
      "text/plain": [
       "Text(0.5, 0.8, 'Where should you invest your budget?')"
      ]
     },
     "execution_count": 84,
     "metadata": {},
     "output_type": "execute_result"
    },
    {
     "data": {
      "image/png": "[encoded data removed]",
      "text/plain": [
       "<Figure size 1152x576 with 1 Axes>"
      ]
     },
     "metadata": {},
     "output_type": "display_data"
    }
   ],
   "source": [
    "import matplotlib.pyplot as plt \n",
    "import seaborn as sns \n",
    "\n",
    "plt.figure(figsize = (16,8))\n",
    "sns.swarmplot(fpl_df['element_type'], fpl_df['total_points'], hue = fpl_df['price_range'])\n",
    "plt.xlabel('Player Position')\n",
    "plt.ylabel('Total Season Points')\n",
    "plt.figtext(.5,.8,'Where should you invest your budget?',fontsize=30,ha='center')"
   ]
  },
  {
   "cell_type": "code",
   "execution_count": 69,
   "metadata": {},
   "outputs": [],
   "source": [
    "fpl_df['Standard_Deviation'] = fpl_df['points_per_90minutes']\n",
    "price_position_breakdown = fpl_df.groupby(['element_type', 'price_range'])\n",
    "price_position_breakdown = price_position_breakdown.agg({'points_per_90minutes' : 'mean', 'start_cost' : 'count', 'Standard_Deviation': 'std'})"
   ]
  },
  {
   "cell_type": "code",
   "execution_count": 70,
   "metadata": {},
   "outputs": [],
   "source": [
    "price_position_breakdown = price_position_breakdown.reset_index()"
   ]
  },
  {
   "cell_type": "code",
   "execution_count": 71,
   "metadata": {},
   "outputs": [],
   "source": [
    "price_position_breakdown.to_csv('price_position.csv')"
   ]
  },
  {
   "cell_type": "code",
   "execution_count": 72,
   "metadata": {},
   "outputs": [
    {
     "data": {
      "text/html": [
       "<div>\n",
       "<style scoped>\n",
       "    .dataframe tbody tr th:only-of-type {\n",
       "        vertical-align: middle;\n",
       "    }\n",
       "\n",
       "    .dataframe tbody tr th {\n",
       "        vertical-align: top;\n",
       "    }\n",
       "\n",
       "    .dataframe thead th {\n",
       "        text-align: right;\n",
       "    }\n",
       "</style>\n",
       "<table border=\"1\" class=\"dataframe\">\n",
       "  <thead>\n",
       "    <tr style=\"text-align: right;\">\n",
       "      <th></th>\n",
       "      <th>element_type</th>\n",
       "      <th>price_range</th>\n",
       "      <th>points_per_90minutes</th>\n",
       "      <th>start_cost</th>\n",
       "      <th>Standard_Deviation</th>\n",
       "    </tr>\n",
       "  </thead>\n",
       "  <tbody>\n",
       "    <tr>\n",
       "      <th>0</th>\n",
       "      <td>DEF</td>\n",
       "      <td>Budget</td>\n",
       "      <td>2.957349</td>\n",
       "      <td>133</td>\n",
       "      <td>0.626712</td>\n",
       "    </tr>\n",
       "    <tr>\n",
       "      <th>1</th>\n",
       "      <td>DEF</td>\n",
       "      <td>Mid Range</td>\n",
       "      <td>3.430027</td>\n",
       "      <td>169</td>\n",
       "      <td>0.828016</td>\n",
       "    </tr>\n",
       "    <tr>\n",
       "      <th>2</th>\n",
       "      <td>DEF</td>\n",
       "      <td>Premium</td>\n",
       "      <td>4.111873</td>\n",
       "      <td>61</td>\n",
       "      <td>0.807225</td>\n",
       "    </tr>\n",
       "    <tr>\n",
       "      <th>3</th>\n",
       "      <td>FWD</td>\n",
       "      <td>Budget</td>\n",
       "      <td>4.459969</td>\n",
       "      <td>49</td>\n",
       "      <td>0.908009</td>\n",
       "    </tr>\n",
       "    <tr>\n",
       "      <th>4</th>\n",
       "      <td>FWD</td>\n",
       "      <td>Mid Range</td>\n",
       "      <td>5.449408</td>\n",
       "      <td>34</td>\n",
       "      <td>0.907287</td>\n",
       "    </tr>\n",
       "    <tr>\n",
       "      <th>5</th>\n",
       "      <td>FWD</td>\n",
       "      <td>Premium</td>\n",
       "      <td>6.600783</td>\n",
       "      <td>16</td>\n",
       "      <td>1.339658</td>\n",
       "    </tr>\n",
       "    <tr>\n",
       "      <th>6</th>\n",
       "      <td>GKP</td>\n",
       "      <td>Budget</td>\n",
       "      <td>3.547722</td>\n",
       "      <td>33</td>\n",
       "      <td>0.525294</td>\n",
       "    </tr>\n",
       "    <tr>\n",
       "      <th>7</th>\n",
       "      <td>GKP</td>\n",
       "      <td>Mid Range</td>\n",
       "      <td>3.680052</td>\n",
       "      <td>21</td>\n",
       "      <td>0.336732</td>\n",
       "    </tr>\n",
       "    <tr>\n",
       "      <th>8</th>\n",
       "      <td>GKP</td>\n",
       "      <td>Premium</td>\n",
       "      <td>3.953792</td>\n",
       "      <td>25</td>\n",
       "      <td>0.547092</td>\n",
       "    </tr>\n",
       "    <tr>\n",
       "      <th>9</th>\n",
       "      <td>MID</td>\n",
       "      <td>Budget</td>\n",
       "      <td>3.129676</td>\n",
       "      <td>120</td>\n",
       "      <td>0.753695</td>\n",
       "    </tr>\n",
       "    <tr>\n",
       "      <th>10</th>\n",
       "      <td>MID</td>\n",
       "      <td>Mid Range</td>\n",
       "      <td>4.059935</td>\n",
       "      <td>195</td>\n",
       "      <td>1.001203</td>\n",
       "    </tr>\n",
       "    <tr>\n",
       "      <th>11</th>\n",
       "      <td>MID</td>\n",
       "      <td>Premium</td>\n",
       "      <td>5.773528</td>\n",
       "      <td>58</td>\n",
       "      <td>1.299142</td>\n",
       "    </tr>\n",
       "  </tbody>\n",
       "</table>\n",
       "</div>"
      ],
      "text/plain": [
       "   element_type price_range  points_per_90minutes  start_cost  \\\n",
       "0           DEF      Budget              2.957349         133   \n",
       "1           DEF   Mid Range              3.430027         169   \n",
       "2           DEF     Premium              4.111873          61   \n",
       "3           FWD      Budget              4.459969          49   \n",
       "4           FWD   Mid Range              5.449408          34   \n",
       "5           FWD     Premium              6.600783          16   \n",
       "6           GKP      Budget              3.547722          33   \n",
       "7           GKP   Mid Range              3.680052          21   \n",
       "8           GKP     Premium              3.953792          25   \n",
       "9           MID      Budget              3.129676         120   \n",
       "10          MID   Mid Range              4.059935         195   \n",
       "11          MID     Premium              5.773528          58   \n",
       "\n",
       "    Standard_Deviation  \n",
       "0             0.626712  \n",
       "1             0.828016  \n",
       "2             0.807225  \n",
       "3             0.908009  \n",
       "4             0.907287  \n",
       "5             1.339658  \n",
       "6             0.525294  \n",
       "7             0.336732  \n",
       "8             0.547092  \n",
       "9             0.753695  \n",
       "10            1.001203  \n",
       "11            1.299142  "
      ]
     },
     "execution_count": 72,
     "metadata": {},
     "output_type": "execute_result"
    }
   ],
   "source": [
    "price_position_breakdown"
   ]
  },
  {
   "cell_type": "code",
   "execution_count": 73,
   "metadata": {},
   "outputs": [],
   "source": [
    "# Let's perform a two sample t-test \n",
    "def t_test(position):\n",
    "    print(\"The Null Hypothesis for this test is that there is no difference between budget and premimum players in the {} position\".format(position))\n",
    "    df = price_position_breakdown[price_position_breakdown['element_type'] == position]\n",
    "    print(\"The significance level for our test is 0.05\")\n",
    "    x2_bar = df['points_per_90minutes'].iloc[-1]\n",
    "    x1_bar =df['points_per_90minutes'].iloc[1]\n",
    "    sd2 = df['Standard_Deviation'].astype('int').iloc[-1]\n",
    "    sd1 = df['Standard_Deviation'].astype('int').iloc[1]\n",
    "    n2 = df['start_cost'].astype('int').iloc[-1]\n",
    "    n1 = df['start_cost'].astype('int').iloc[1]\n",
    "    SE = np.sqrt(((sd2)^2)/n2 + ((sd1)^2)/n1)\n",
    "    dof = min([(n2-1), (n1-1)])\n",
    "    t_stat = (x2_bar - x1_bar) / SE\n",
    "    return t_stat"
   ]
  },
  {
   "cell_type": "code",
   "execution_count": 74,
   "metadata": {},
   "outputs": [
    {
     "name": "stdout",
     "output_type": "stream",
     "text": [
      "The Null Hypothesis for this test is that there is no difference between budget and premimum players in the DEF position\n",
      "The significance level for our test is 0.05\n",
      "The Null Hypothesis for this test is that there is no difference between budget and premimum players in the MID position\n",
      "The significance level for our test is 0.05\n",
      "The Null Hypothesis for this test is that there is no difference between budget and premimum players in the FWD position\n",
      "The significance level for our test is 0.05\n",
      "The Null Hypothesis for this test is that there is no difference between budget and premimum players in the GKP position\n",
      "The significance level for our test is 0.05\n"
     ]
    }
   ],
   "source": [
    "values = []\n",
    "for i in (\"DEF\", \"MID\", \"FWD\", \"GKP\"):\n",
    "    values.append(t_test(i))"
   ]
  },
  {
   "cell_type": "code",
   "execution_count": 75,
   "metadata": {},
   "outputs": [],
   "source": [
    "hypothesis_test = pd.DataFrame(values, index = [\"DEF\", \"MID\", \"FWD\", \"GKP\"], columns = ['T-Statistic'])"
   ]
  },
  {
   "cell_type": "code",
   "execution_count": 76,
   "metadata": {},
   "outputs": [],
   "source": [
    "hypothesis_test['P-Value'] = [0.00101, 0.00000696, 0.0174, 0.2603]\n",
    "hypothesis_test['Significant'] = [True, True, True, False]"
   ]
  },
  {
   "cell_type": "code",
   "execution_count": 77,
   "metadata": {},
   "outputs": [
    {
     "data": {
      "text/html": [
       "<div>\n",
       "<style scoped>\n",
       "    .dataframe tbody tr th:only-of-type {\n",
       "        vertical-align: middle;\n",
       "    }\n",
       "\n",
       "    .dataframe tbody tr th {\n",
       "        vertical-align: top;\n",
       "    }\n",
       "\n",
       "    .dataframe thead th {\n",
       "        text-align: right;\n",
       "    }\n",
       "</style>\n",
       "<table border=\"1\" class=\"dataframe\">\n",
       "  <thead>\n",
       "    <tr style=\"text-align: right;\">\n",
       "      <th></th>\n",
       "      <th>T-Statistic</th>\n",
       "      <th>P-Value</th>\n",
       "      <th>Significant</th>\n",
       "    </tr>\n",
       "  </thead>\n",
       "  <tbody>\n",
       "    <tr>\n",
       "      <th>DEF</th>\n",
       "      <td>3.227867</td>\n",
       "      <td>0.001010</td>\n",
       "      <td>True</td>\n",
       "    </tr>\n",
       "    <tr>\n",
       "      <th>MID</th>\n",
       "      <td>6.614818</td>\n",
       "      <td>0.000007</td>\n",
       "      <td>True</td>\n",
       "    </tr>\n",
       "    <tr>\n",
       "      <th>FWD</th>\n",
       "      <td>2.319871</td>\n",
       "      <td>0.017400</td>\n",
       "      <td>True</td>\n",
       "    </tr>\n",
       "    <tr>\n",
       "      <th>GKP</th>\n",
       "      <td>0.653919</td>\n",
       "      <td>0.260300</td>\n",
       "      <td>False</td>\n",
       "    </tr>\n",
       "  </tbody>\n",
       "</table>\n",
       "</div>"
      ],
      "text/plain": [
       "     T-Statistic   P-Value  Significant\n",
       "DEF     3.227867  0.001010         True\n",
       "MID     6.614818  0.000007         True\n",
       "FWD     2.319871  0.017400         True\n",
       "GKP     0.653919  0.260300        False"
      ]
     },
     "execution_count": 77,
     "metadata": {},
     "output_type": "execute_result"
    }
   ],
   "source": [
    "hypothesis_test"
   ]
  },
  {
   "cell_type": "code",
   "execution_count": 78,
   "metadata": {},
   "outputs": [
    {
     "name": "stdout",
     "output_type": "stream",
     "text": [
      "The Null Hypothesis for this test is that there is no difference between budget and premimum players in the DEF position\n",
      "The significance level for our test is 0.05\n"
     ]
    },
    {
     "data": {
      "text/plain": [
       "3.2278669862061884"
      ]
     },
     "execution_count": 78,
     "metadata": {},
     "output_type": "execute_result"
    }
   ],
   "source": [
    "t_test(\"DEF\")"
   ]
  },
  {
   "cell_type": "code",
   "execution_count": 79,
   "metadata": {},
   "outputs": [
    {
     "name": "stdout",
     "output_type": "stream",
     "text": [
      "The Null Hypothesis for this test is that there is no difference between budget and premimum players in the MID position\n",
      "The significance level for our test is 0.05\n"
     ]
    },
    {
     "data": {
      "text/plain": [
       "6.614818105371858"
      ]
     },
     "execution_count": 79,
     "metadata": {},
     "output_type": "execute_result"
    }
   ],
   "source": [
    "t_test(\"MID\")"
   ]
  },
  {
   "cell_type": "code",
   "execution_count": 80,
   "metadata": {},
   "outputs": [
    {
     "name": "stdout",
     "output_type": "stream",
     "text": [
      "The Null Hypothesis for this test is that there is no difference between budget and premimum players in the FWD position\n",
      "The significance level for our test is 0.05\n"
     ]
    },
    {
     "data": {
      "text/plain": [
       "2.31987123842839"
      ]
     },
     "execution_count": 80,
     "metadata": {},
     "output_type": "execute_result"
    }
   ],
   "source": [
    "t_test(\"FWD\")"
   ]
  },
  {
   "cell_type": "code",
   "execution_count": 81,
   "metadata": {},
   "outputs": [
    {
     "name": "stdout",
     "output_type": "stream",
     "text": [
      "The Null Hypothesis for this test is that there is no difference between budget and premimum players in the GKP position\n",
      "The significance level for our test is 0.05\n"
     ]
    },
    {
     "data": {
      "text/plain": [
       "0.6539187600267015"
      ]
     },
     "execution_count": 81,
     "metadata": {},
     "output_type": "execute_result"
    }
   ],
   "source": [
    "t_test(\"GKP\")"
   ]
  }
 ],
 "metadata": {
  "kernelspec": {
   "display_name": "Python 3",
   "language": "python",
   "name": "python3"
  },
  "language_info": {
   "codemirror_mode": {
    "name": "ipython",
    "version": 3
   },
   "file_extension": ".py",
   "mimetype": "text/x-python",
   "name": "python",
   "nbconvert_exporter": "python",
   "pygments_lexer": "ipython3",
   "version": "3.8.5"
  }
 },
 "nbformat": 4,
 "nbformat_minor": 4
}
